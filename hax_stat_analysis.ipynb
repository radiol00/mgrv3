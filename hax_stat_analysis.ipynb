{
 "cells": [
  {
   "cell_type": "markdown",
   "metadata": {},
   "source": [
    "# Importowanie bibliotek"
   ]
  },
  {
   "cell_type": "code",
   "execution_count": null,
   "metadata": {},
   "outputs": [],
   "source": [
    "import pandas as pd\n",
    "import matplotlib.pyplot as plt\n",
    "import os\n",
    "from hax.utils.statistics import Statistics\n",
    "os.environ['PYGAME_HIDE_SUPPORT_PROMPT'] = \"hide\"\n",
    "plt.rcParams['figure.figsize'] = [14, 7]\n",
    "plt.rcParams['figure.dpi'] = 100"
   ]
  },
  {
   "cell_type": "markdown",
   "metadata": {},
   "source": [
    "## Pobranie danych"
   ]
  },
  {
   "cell_type": "code",
   "execution_count": null,
   "metadata": {},
   "outputs": [],
   "source": [
    "path = \"statistics\\\\ESPO_REDALDO_VS_STATIONARY_BLUESSI\"\n",
    "# path = \"statistics\\\\FINAL_BLUESSI_VS_LEARNED_REDALDO\"\n",
    "# path = \"statistics\\\\FINAL_ADVERSARIAL_BLUESSI_VS_LEARNED_REDALDO\"\n",
    "experiences, actorLosses, criticLosses = Statistics.load(path)\n",
    "print(len(experiences))\n",
    "print(len(criticLosses))\n",
    "print(len(actorLosses))"
   ]
  },
  {
   "cell_type": "markdown",
   "metadata": {},
   "source": [
    "# Wykresy"
   ]
  },
  {
   "cell_type": "code",
   "execution_count": null,
   "metadata": {},
   "outputs": [],
   "source": [
    "groups = 10\n",
    "groupSize = experiences.shape[0] / groups\n",
    "print(groupSize)\n",
    "groupedMemories = experiences.groupby(experiences.index // groupSize).sum()\n",
    "mems = groupedMemories[[\"win\", \"lose\", \"draw\"]].plot.bar(width=0.8, xlabel=\"Identyfikator grupy\", ylabel=\"Liczba ukończonych epizodów\", title=f\"Pogrupowane sumy wyników epizodów (grupa={round(groupSize)} momentów decyzyjnych)\")\n",
    "for i, p in enumerate(mems.patches):\n",
    "    mems.annotate(str(p.get_height()), (p.get_x(), p.get_height() + 1))\n",
    "\n",
    "legend = mems.legend()\n",
    "legend.get_texts()[0].set_text('Wygrana')\n",
    "legend.get_texts()[1].set_text('Przegrana')\n",
    "legend.get_texts()[2].set_text('Remis')\n"
   ]
  },
  {
   "cell_type": "code",
   "execution_count": null,
   "metadata": {},
   "outputs": [],
   "source": [
    "dataA = actorLosses[\"loss\"]\n",
    "dataC = criticLosses[\"loss\"]\n",
    "\n",
    "fig, axes = plt.subplots(nrows=1,ncols=2,figsize=(13,3))\n",
    "fig.tight_layout()\n",
    "dataA.rolling(window=len(dataA)//10).mean().plot(y=\"loss\", ax=axes[0], title=\"Błąd sieci aktora\", xlabel=\"Identyfikator sesji uczenia\", ylabel=\"Błąd\")\n",
    "dataC.rolling(window=len(dataC)//10).mean().plot(y=\"loss\", ax=axes[1], title=\"Błąd sieci krytyka\", xlabel=\"Identifikator sesji uczenia\")\n"
   ]
  },
  {
   "cell_type": "code",
   "execution_count": null,
   "metadata": {},
   "outputs": [],
   "source": [
    "data = experiences[[\"ballGateTraj\", \"toBallTraj\"]]\n",
    "data = data.dropna()\n",
    "roll = data.rolling(window=int(groupSize)).mean()\n",
    "rewplt = roll.plot(title=f\"Średnia krocząca komponentów nagrody (punkt to średnia z {round(groupSize)} momentów decyzyjncych)\", xlabel=\"Moment decyzyjny\", ylabel=f\"Uśredniona wartość nagrody\")\n",
    "legend=rewplt.legend()\n",
    "legend.get_texts()[0].set_text('Trajektoria Piłka - Bramka')\n",
    "legend.get_texts()[1].set_text('Trajektoria Gracz - Piłka')\n",
    "print(roll.max())\n",
    "print(roll.min())"
   ]
  },
  {
   "cell_type": "code",
   "execution_count": null,
   "metadata": {},
   "outputs": [],
   "source": [
    "episodeLengths = []\n",
    "currentEpisodeLength = 1\n",
    "for row in experiences.itertuples():\n",
    "    if row.done:\n",
    "        episodeLengths.append(currentEpisodeLength)\n",
    "        currentEpisodeLength = 1\n",
    "    else:\n",
    "        currentEpisodeLength += 1\n",
    "episodeLengths.append(currentEpisodeLength)\n",
    "\n",
    "episodeLengths = pd.DataFrame(episodeLengths)\n",
    "roll = episodeLengths.rolling(window=len(episodeLengths)//10).mean()\n",
    "roll.plot(legend=None, xlabel=\"Epizod\", ylabel=\"Długość epizodu\", title=f\"Średnia krocząca długości epizodu (punkt to średnia z {len(episodeLengths)//10} epizodów)\")\n",
    "print(len(episodeLengths))\n",
    "print(roll.min())\n",
    "print(roll.max())"
   ]
  },
  {
   "cell_type": "code",
   "execution_count": null,
   "metadata": {},
   "outputs": [],
   "source": [
    "seconds = 0\n",
    "stamps  = actorLosses[\"ts\"]\n",
    "for i in range(len(stamps)):\n",
    "    if i + 1 == len(stamps):\n",
    "        break\n",
    "    \n",
    "    diff = stamps[i+1] - stamps[i]\n",
    "    if diff < 60:\n",
    "        seconds += diff\n",
    "\n",
    "minutes = seconds / 60\n",
    "hours = minutes / 60\n",
    "print(hours)\n"
   ]
  }
 ],
 "metadata": {
  "interpreter": {
   "hash": "8f9443398c8e596300d19ccdb7e4c91ad5e06bbd8ef6afc2b8f3047a23130614"
  },
  "kernelspec": {
   "display_name": "Python 3.8.6 64-bit",
   "language": "python",
   "name": "python3"
  },
  "language_info": {
   "codemirror_mode": {
    "name": "ipython",
    "version": 3
   },
   "file_extension": ".py",
   "mimetype": "text/x-python",
   "name": "python",
   "nbconvert_exporter": "python",
   "pygments_lexer": "ipython3",
   "version": "3.8.6"
  },
  "orig_nbformat": 4
 },
 "nbformat": 4,
 "nbformat_minor": 2
}
