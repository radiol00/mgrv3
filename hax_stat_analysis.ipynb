{
 "cells": [
  {
   "cell_type": "markdown",
   "metadata": {},
   "source": [
    "# Importowanie bibliotek"
   ]
  },
  {
   "cell_type": "code",
   "execution_count": null,
   "metadata": {},
   "outputs": [],
   "source": [
    "import pandas as pd\n",
    "import matplotlib.pyplot as plt\n",
    "import os\n",
    "from hax.utils.statistics import Statistics\n",
    "os.environ['PYGAME_HIDE_SUPPORT_PROMPT'] = \"hide\"\n",
    "plt.rcParams['figure.figsize'] = [14, 7]\n",
    "plt.rcParams['figure.dpi'] = 100"
   ]
  },
  {
   "cell_type": "markdown",
   "metadata": {},
   "source": [
    "## Pobranie danych"
   ]
  },
  {
   "cell_type": "code",
   "execution_count": null,
   "metadata": {},
   "outputs": [],
   "source": [
    "# path = \"statistics\\\\FINAL_REDALDO_VS_RANDOM_BLUESSI\"\n",
    "path = \"statistics\\\\FINAL_BLUESSI_VS_LEARNED_REDALDO\"\n",
    "experiences, actorLosses, criticLosses = Statistics.load(path)\n",
    "\n",
    "print(len(experiences))\n",
    "print(len(criticLosses))\n",
    "print(len(actorLosses))"
   ]
  },
  {
   "cell_type": "markdown",
   "metadata": {},
   "source": [
    "# Wykresy"
   ]
  },
  {
   "cell_type": "code",
   "execution_count": null,
   "metadata": {},
   "outputs": [],
   "source": [
    "groups = 10\n",
    "groupSize = experiences.shape[0] / groups\n",
    "print(groupSize)\n",
    "groupedMemories = experiences.groupby(experiences.index // groupSize).sum()\n",
    "mems = groupedMemories[[\"win\", \"lose\", \"draw\"]].plot.bar(width=0.8, xlabel=\"Identyfikator grupy\", ylabel=\"Liczba ukończonych epizodów\", title=f\"Pogrupowane sumy wyników epizodów (grupa={round(groupSize)} momentów decyzyjnych)\")\n",
    "for i, p in enumerate(mems.patches):\n",
    "    mems.annotate(str(p.get_height()), (p.get_x(), p.get_height() + 5))\n",
    "\n",
    "legend = mems.legend()\n",
    "legend.get_texts()[0].set_text('Wygrana')\n",
    "legend.get_texts()[1].set_text('Przegrana')\n",
    "legend.get_texts()[2].set_text('Remis')"
   ]
  },
  {
   "cell_type": "code",
   "execution_count": null,
   "metadata": {},
   "outputs": [],
   "source": [
    "dataA = actorLosses[\"loss\"]\n",
    "dataC = criticLosses[\"loss\"]\n",
    "\n",
    "fig, axes = plt.subplots(nrows=1,ncols=2,figsize=(13,3))\n",
    "fig.tight_layout()\n",
    "dataA.rolling(window=len(dataA)//10).mean().plot(y=\"loss\", ax=axes[0], title=\"Błąd sieci aktora\", xlabel=\"Identyfikator sesji uczenia\", ylabel=\"Błąd\")\n",
    "dataC.rolling(window=len(dataC)//10).mean().plot(y=\"loss\", ax=axes[1], title=\"Błąd sieci krytyka\", xlabel=\"Identifikator sesji uczenia\")\n"
   ]
  },
  {
   "cell_type": "code",
   "execution_count": null,
   "metadata": {},
   "outputs": [],
   "source": [
    "data = experiences[[\"ballGateTraj\", \"toBallTraj\"]]\n",
    "data = data.dropna()\n",
    "roll = data.rolling(window=int(groupSize)).mean()\n",
    "rewplt = roll.plot(title=f\"Średnia krocząca komponentów nagrody (punkt to średnia z {round(groupSize)} momentów decyzyjncych)\", xlabel=\"Moment decyzyjny\", ylabel=f\"Uśredniona wartość nagrody\")\n",
    "legend=rewplt.legend()\n",
    "legend.get_texts()[0].set_text('Trajektoria Piłka - Bramka')\n",
    "legend.get_texts()[1].set_text('Trajektoria Gracz - Piłka')\n",
    "print(roll.max())"
   ]
  },
  {
   "cell_type": "code",
   "execution_count": null,
   "metadata": {},
   "outputs": [],
   "source": [
    "episodeLengths = []\n",
    "currentEpisodeLength = 1\n",
    "for row in experiences.itertuples():\n",
    "    if row.done:\n",
    "        episodeLengths.append(currentEpisodeLength)\n",
    "        currentEpisodeLength = 1\n",
    "    else:\n",
    "        currentEpisodeLength += 1\n",
    "episodeLengths.append(currentEpisodeLength)\n",
    "\n",
    "episodeLengths = pd.DataFrame(episodeLengths)\n",
    "roll = episodeLengths.rolling(window=len(episodeLengths)//10).mean()\n",
    "roll.plot(legend=None, xlabel=\"Epizod\", ylabel=\"Długość epizodu\", title=f\"Średnia krocząca długości epizodu (punkt to średnia z {len(episodeLengths)//10} epizodów)\")\n",
    "print(len(episodeLengths))\n",
    "print(roll.min())"
   ]
  }
 ],
 "metadata": {
  "interpreter": {
   "hash": "37b4929965d69b017101f1d9e431a221219ee6e4638d51d666588f32621c25f4"
  },
  "kernelspec": {
   "display_name": "Python 3.8.6 64-bit",
   "name": "python3"
  },
  "language_info": {
   "codemirror_mode": {
    "name": "ipython",
    "version": 3
   },
   "file_extension": ".py",
   "mimetype": "text/x-python",
   "name": "python",
   "nbconvert_exporter": "python",
   "pygments_lexer": "ipython3",
   "version": "3.8.6"
  },
  "orig_nbformat": 4
 },
 "nbformat": 4,
 "nbformat_minor": 2
}
