{
 "cells": [
  {
   "cell_type": "markdown",
   "metadata": {},
   "source": [
    "# Importowanie bibliotek"
   ]
  },
  {
   "cell_type": "code",
   "execution_count": 29,
   "metadata": {},
   "outputs": [],
   "source": [
    "import pandas as pd\n",
    "import matplotlib.pyplot as plt\n",
    "import os\n",
    "from hax.utils.statistics import Statistics\n",
    "os.environ['PYGAME_HIDE_SUPPORT_PROMPT'] = \"hide\"\n",
    "plt.rcParams['figure.figsize'] = [6, 4]\n",
    "plt.rcParams['figure.dpi'] = 100"
   ]
  },
  {
   "cell_type": "markdown",
   "metadata": {},
   "source": [
    "## Pobranie danych"
   ]
  },
  {
   "cell_type": "code",
   "execution_count": 30,
   "metadata": {},
   "outputs": [],
   "source": [
    "path = \"statistics\\\\GOLDFISH_BLUESSI_VS_LEARNED_REDALDO_FASTEST_SMALL\"\n",
    "title = \"GOLDFISH SAMPLE EFFICIENT\"\n",
    "experiences, actorLosses, criticLosses = Statistics.load(path)\n",
    "print(len(experiences))\n",
    "print(len(criticLosses))\n",
    "print(len(actorLosses))\n",
    "print()\n",
    "\n",
    "pathToCompare = \"statistics\\\\BLUESSI_VS_LEARNED_REDALDO_FASTEST_SMALL\"\n",
    "titleC = \"SAMPLE EFFICIENT\"\n",
    "experiencesC, actorLossesC, criticLossesC = Statistics.load(pathToCompare, len(experiences))\n",
    "print(len(experiencesC))\n",
    "print(len(criticLossesC))\n",
    "print(len(actorLossesC))\n"
   ]
  },
  {
   "cell_type": "markdown",
   "metadata": {},
   "source": [
    "# Wykresy"
   ]
  },
  {
   "cell_type": "code",
   "execution_count": null,
   "metadata": {},
   "outputs": [],
   "source": [
    "groups = 10\n",
    "groupSize = experiences.shape[0] / groups\n",
    "print(groupSize)\n",
    "groupedMemories = experiences.groupby(experiences.index // groupSize).sum()\n",
    "groupedMemoriesC = experiencesC.groupby(experiencesC.index // groupSize).sum()\n",
    "fig, axes = plt.subplots(nrows=1,ncols=2,figsize=(24,6))\n",
    "mems = groupedMemories[[\"win\", \"lose\", \"draw\"]].plot.bar(ax=axes[0], title=title)\n",
    "memsC = groupedMemoriesC[[\"win\", \"lose\", \"draw\"]].plot.bar(ax=axes[1], title=titleC)\n",
    "for p in mems.patches:\n",
    "    mems.annotate(str(p.get_height()), (p.get_x(), p.get_height() + 0.05))\n",
    "for p in memsC.patches:\n",
    "    memsC.annotate(str(p.get_height()), (p.get_x(), p.get_height() + 0.05))"
   ]
  },
  {
   "cell_type": "code",
   "execution_count": null,
   "metadata": {},
   "outputs": [],
   "source": [
    "data = actorLosses[\"loss\"]\n",
    "dataC = actorLossesC[\"loss\"]\n",
    "\n",
    "fig, axes = plt.subplots(nrows=1,ncols=2,figsize=(24,6))\n",
    "data.rolling(window=len(data)//100).mean().plot(y=\"loss\", ax=axes[0], title=title)\n",
    "dataC.rolling(window=len(data)//100).mean().plot(y=\"loss\", ax=axes[1], title=titleC)"
   ]
  },
  {
   "cell_type": "code",
   "execution_count": null,
   "metadata": {},
   "outputs": [],
   "source": [
    "data = criticLosses[\"loss\"]\n",
    "dataC = criticLossesC[\"loss\"]\n",
    "\n",
    "fig, axes = plt.subplots(nrows=1,ncols=2,figsize=(24,6))\n",
    "data.rolling(window=len(data)//100).mean().plot(y=\"loss\", ax=axes[0], title=title)\n",
    "dataC.rolling(window=len(data)//100).mean().plot(y=\"loss\", ax=axes[1], title=titleC)\n"
   ]
  },
  {
   "cell_type": "code",
   "execution_count": null,
   "metadata": {},
   "outputs": [],
   "source": [
    "data = experiences[[\"ballGateTraj\", \"toBallTraj\"]]\n",
    "data = data.dropna()\n",
    "dataC =experiencesC[[\"ballGateTraj\", \"toBallTraj\"]]\n",
    "dataC = dataC.dropna()\n",
    "roll = data.rolling(window=int(groupSize)).mean()\n",
    "rollC = dataC.rolling(window=int(groupSize)).mean()\n",
    "fig, axes = plt.subplots(nrows=1,ncols=2,figsize=(24,6))\n",
    "roll.plot(title=title, ax=axes[0])\n",
    "rollC.plot(title=titleC, ax=axes[1])\n",
    "print(title)\n",
    "print(roll.max())\n",
    "print()\n",
    "print(titleC)\n",
    "print(rollC.max())\n"
   ]
  },
  {
   "cell_type": "code",
   "execution_count": null,
   "metadata": {},
   "outputs": [],
   "source": [
    "episodeLengths = []\n",
    "currentEpisodeLength = 1\n",
    "for row in experiences.itertuples():\n",
    "    if row.done:\n",
    "        episodeLengths.append(currentEpisodeLength)\n",
    "        currentEpisodeLength = 1\n",
    "    else:\n",
    "        currentEpisodeLength += 1\n",
    "episodeLengths.append(currentEpisodeLength)\n",
    "\n",
    "episodeLengthsC = []\n",
    "currentEpisodeLength = 1\n",
    "for row in experiencesC.itertuples():\n",
    "    if row.done:\n",
    "        episodeLengthsC.append(currentEpisodeLength)\n",
    "        currentEpisodeLength = 1\n",
    "    else:\n",
    "        currentEpisodeLength += 1\n",
    "episodeLengthsC.append(currentEpisodeLength)\n",
    "\n",
    "episodeLengths = pd.DataFrame(episodeLengths)\n",
    "episodeLengthsC = pd.DataFrame(episodeLengthsC)\n",
    "\n",
    "fig, axes = plt.subplots(nrows=1,ncols=2,figsize=(24,6))\n",
    "\n",
    "roll = episodeLengths.rolling(window=len(episodeLengths)//10).mean()\n",
    "rollC = episodeLengthsC.rolling(window=len(episodeLengthsC)//10).mean()\n",
    "roll.plot(title=title, ax=axes[0])\n",
    "rollC.plot(title=titleC, ax=axes[1])\n",
    "print(title)\n",
    "print(roll.max())\n",
    "print()\n",
    "print(titleC)\n",
    "print(rollC.max())"
   ]
  }
 ],
 "metadata": {
  "interpreter": {
   "hash": "37b4929965d69b017101f1d9e431a221219ee6e4638d51d666588f32621c25f4"
  },
  "kernelspec": {
   "display_name": "Python 3.8.6 64-bit",
   "name": "python3"
  },
  "language_info": {
   "codemirror_mode": {
    "name": "ipython",
    "version": 3
   },
   "file_extension": ".py",
   "mimetype": "text/x-python",
   "name": "python",
   "nbconvert_exporter": "python",
   "pygments_lexer": "ipython3",
   "version": "3.8.6"
  },
  "orig_nbformat": 4
 },
 "nbformat": 4,
 "nbformat_minor": 2
}
