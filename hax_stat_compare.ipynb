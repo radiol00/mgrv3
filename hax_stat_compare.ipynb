{
 "cells": [
  {
   "cell_type": "markdown",
   "metadata": {},
   "source": [
    "# Importowanie bibliotek"
   ]
  },
  {
   "cell_type": "code",
   "execution_count": null,
   "metadata": {},
   "outputs": [],
   "source": [
    "import pandas as pd\n",
    "import matplotlib.pyplot as plt\n",
    "import os\n",
    "from hax.utils.statistics import Statistics\n",
    "os.environ['PYGAME_HIDE_SUPPORT_PROMPT'] = \"hide\"\n",
    "plt.rcParams['figure.figsize'] = [6, 4]\n",
    "plt.rcParams['figure.dpi'] = 150"
   ]
  },
  {
   "cell_type": "markdown",
   "metadata": {},
   "source": [
    "## Pobranie danych"
   ]
  },
  {
   "cell_type": "code",
   "execution_count": null,
   "metadata": {},
   "outputs": [],
   "source": [
    "path = \"\"\n",
    "title = \"\"\n",
    "experiences, actorLosses, criticLosses = Statistics.load(path)\n",
    "print(len(experiences))\n",
    "print(len(criticLosses))\n",
    "print(len(actorLosses))\n",
    "print()\n",
    "\n",
    "pathToCompare = \"\"\n",
    "titleC = \"\"\n",
    "experiencesC, actorLossesC, criticLossesC = Statistics.load(pathToCompare)\n",
    "\n",
    "experiencesC = experiencesC[:len(experiences)]\n",
    "criticLossesC = criticLossesC[:len(criticLosses)]\n",
    "actorLossesC = actorLossesC[:len(actorLosses)]\n"
   ]
  },
  {
   "cell_type": "markdown",
   "metadata": {},
   "source": [
    "# Wykresy"
   ]
  },
  {
   "cell_type": "code",
   "execution_count": null,
   "metadata": {},
   "outputs": [],
   "source": [
    "groups = 10\n",
    "groupSize = experiences.shape[0] / groups\n",
    "groupSizeC = experiencesC.shape[0] / groups\n",
    "groupedMemories = experiences.groupby(experiences.index // groupSize).sum()\n",
    "groupedMemoriesC = experiencesC.groupby(experiencesC.index // groupSizeC).sum()\n",
    "fig, axes = plt.subplots(nrows=1,ncols=2,figsize=(10,4))\n",
    "fig.suptitle(f\"Pogrupowane sumy wyników epizodów (grupa={round(groupSize)} momentów decyzyjnych)\", fontsize=12)\n",
    "fig.tight_layout()\n",
    "mems = groupedMemories[[\"win\", \"lose\", \"draw\"]].plot.bar(ax=axes[0], title=title, width=0.9, xlabel=\"Identyfikator grupy\", ylabel=\"Liczba ukończonych epizodów\")\n",
    "legend = mems.legend(loc=\"center left\")\n",
    "legend.get_texts()[0].set_text('Wygrana')\n",
    "legend.get_texts()[1].set_text('Przegrana')\n",
    "legend.get_texts()[2].set_text('Remis')\n",
    "\n",
    "memsC = groupedMemoriesC[[\"win\", \"lose\", \"draw\"]].plot.bar(ax=axes[1], title=titleC, width=0.9, xlabel=\"Identyfikator grupy\")\n",
    "legend = memsC.legend(loc=\"center left\")\n",
    "legend.get_texts()[0].set_text('Wygrana')\n",
    "legend.get_texts()[1].set_text('Przegrana')\n",
    "legend.get_texts()[2].set_text('Remis')\n",
    "for p in mems.patches:\n",
    "    mems.annotate(str(p.get_height()), (p.get_x(), p.get_height() + 0.1))\n",
    "for p in memsC.patches:\n",
    "    memsC.annotate(str(p.get_height()), (p.get_x(), p.get_height() + 0.1))"
   ]
  },
  {
   "cell_type": "code",
   "execution_count": null,
   "metadata": {},
   "outputs": [],
   "source": [
    "data = actorLosses[\"loss\"]\n",
    "dataAC = actorLossesC[\"loss\"]\n",
    "\n",
    "dataAC = dataAC[:len(data)]\n",
    "\n",
    "fig, axes = plt.subplots(nrows=2,ncols=2,figsize=(10,7))\n",
    "fig.tight_layout()\n",
    "data.rolling(window=len(data)//10).mean().plot(y=\"loss\", ax=axes[0][0], title=\"Błędy sieci aktora\\n\"+title, ylabel=\"Błąd\")\n",
    "dataAC.rolling(window=len(dataAC)//10).mean().plot(y=\"loss\", ax=axes[1][0], title=titleC, xlabel=\"Identifikator sesji uczenia\", ylabel=\"Błąd\")\n",
    "\n",
    "data = criticLosses[\"loss\"]\n",
    "dataAC = criticLossesC[\"loss\"]\n",
    "\n",
    "dataAC = dataAC[:len(data)]\n",
    "\n",
    "data.rolling(window=len(data)//10).mean().plot(y=\"loss\", ax=axes[0][1], title=\"Błędy sieci krytyka\\n\"+title)\n",
    "dataAC.rolling(window=len(dataAC)//10).mean().plot(y=\"loss\", ax=axes[1][1], title=titleC, xlabel=\"Identifikator sesji uczenia\")"
   ]
  },
  {
   "cell_type": "code",
   "execution_count": null,
   "metadata": {},
   "outputs": [],
   "source": [
    "data = experiences[[\"ballGateTraj\", \"toBallTraj\"]]\n",
    "data = data.dropna()\n",
    "dataC =experiencesC[[\"ballGateTraj\", \"toBallTraj\"]]\n",
    "dataC = dataC.dropna()\n",
    "roll = data.rolling(window=int(groupSize)).mean()\n",
    "rollC = dataC.rolling(window=int(groupSize)).mean()\n",
    "fig, axes = plt.subplots(nrows=1,ncols=2,figsize=(10,3))\n",
    "fig.suptitle(f\"Średnia krocząca komponentów nagrody (punkt to średnia z {round(groupSize)} momentów decyzyjncych)\")\n",
    "fig.tight_layout()\n",
    "rewplt = roll.plot(title=title, ax=axes[0], xlabel=\"Moment decyzyjny\", ylabel=f\"Uśredniona wartość nagrody\")\n",
    "rewpltC = rollC.plot(title=titleC, ax=axes[1], xlabel=\"Moment decyzyjny\")\n",
    "\n",
    "legend=rewplt.legend()\n",
    "legend.get_texts()[0].set_text('Trajektoria Piłka - Bramka')\n",
    "legend.get_texts()[1].set_text('Trajektoria Gracz - Piłka')\n",
    "\n",
    "legend=rewpltC.legend()\n",
    "legend.get_texts()[0].set_text('Trajektoria Piłka - Bramka')\n",
    "legend.get_texts()[1].set_text('Trajektoria Gracz - Piłka')\n",
    "print(\"rew\")\n",
    "print(title)\n",
    "print(roll.max())\n",
    "print(roll.min())\n",
    "print()\n",
    "print(titleC)\n",
    "print(rollC.max())\n",
    "print(rollC.max())\n"
   ]
  },
  {
   "cell_type": "code",
   "execution_count": null,
   "metadata": {},
   "outputs": [],
   "source": [
    "episodeLengths = []\n",
    "currentEpisodeLength = 1\n",
    "for row in experiences.itertuples():\n",
    "    if row.done:\n",
    "        episodeLengths.append(currentEpisodeLength)\n",
    "        currentEpisodeLength = 1\n",
    "    else:\n",
    "        currentEpisodeLength += 1\n",
    "episodeLengths.append(currentEpisodeLength)\n",
    "\n",
    "episodeLengthsC = []\n",
    "currentEpisodeLength = 1\n",
    "for row in experiencesC.itertuples():\n",
    "    if row.done:\n",
    "        episodeLengthsC.append(currentEpisodeLength)\n",
    "        currentEpisodeLength = 1\n",
    "    else:\n",
    "        currentEpisodeLength += 1\n",
    "episodeLengthsC.append(currentEpisodeLength)\n",
    "\n",
    "episodeLengths = pd.DataFrame(episodeLengths)\n",
    "episodeLengthsC = pd.DataFrame(episodeLengthsC)\n",
    "\n",
    "fig, axes = plt.subplots(nrows=1,ncols=2,figsize=(10,3))\n",
    "fig.suptitle(f\"Średnia krocząca długości epizodu (punkt to średnia z {len(episodeLengths)//10} epizodów)\")\n",
    "fig.tight_layout()\n",
    "\n",
    "roll = episodeLengths.rolling(window=len(episodeLengths)//10).mean()\n",
    "rollC = episodeLengthsC.rolling(window=len(episodeLengthsC)//10).mean()\n",
    "roll.plot(title=title, ax=axes[0], legend=None, xlabel=\"Epizod\", ylabel=\"Długość epizodu\")\n",
    "rollC.plot(title=titleC, ax=axes[1], legend=None, xlabel=\"Epizod\")\n",
    "print(\"eplen\")\n",
    "print(title)\n",
    "print(roll.min())\n",
    "print(roll.max())\n",
    "print()\n",
    "print(titleC)\n",
    "print(rollC.min())\n",
    "print(rollC.max())"
   ]
  },
  {
   "cell_type": "code",
   "execution_count": null,
   "metadata": {},
   "outputs": [],
   "source": [
    "# MAIN\n",
    "seconds = 0\n",
    "stamps  = actorLosses[\"ts\"]\n",
    "for i in range(len(stamps)):\n",
    "    if i + 1 == len(stamps):\n",
    "        break\n",
    "    \n",
    "    diff = stamps[i+1] - stamps[i]\n",
    "    if diff < 60:\n",
    "        seconds += diff\n",
    "\n",
    "minutes = seconds / 60\n",
    "hours = minutes / 60\n",
    "print(hours)"
   ]
  },
  {
   "cell_type": "code",
   "execution_count": null,
   "metadata": {},
   "outputs": [],
   "source": [
    "# COMPARED\n",
    "seconds = 0\n",
    "stamps  = actorLossesC[\"ts\"][:len(actorLosses)]\n",
    "for i in range(len(stamps)):\n",
    "    if i + 1 == len(stamps):\n",
    "        break\n",
    "    \n",
    "    diff = stamps[i+1] - stamps[i]\n",
    "    if diff < 60:\n",
    "        seconds += diff\n",
    "\n",
    "minutes = seconds / 60\n",
    "hours = minutes / 60\n",
    "print(hours)"
   ]
  }
 ],
 "metadata": {
  "interpreter": {
   "hash": "8f9443398c8e596300d19ccdb7e4c91ad5e06bbd8ef6afc2b8f3047a23130614"
  },
  "kernelspec": {
   "display_name": "Python 3.8.6 64-bit",
   "language": "python",
   "name": "python3"
  },
  "language_info": {
   "codemirror_mode": {
    "name": "ipython",
    "version": 3
   },
   "file_extension": ".py",
   "mimetype": "text/x-python",
   "name": "python",
   "nbconvert_exporter": "python",
   "pygments_lexer": "ipython3",
   "version": "3.8.6"
  },
  "orig_nbformat": 4
 },
 "nbformat": 4,
 "nbformat_minor": 2
}
